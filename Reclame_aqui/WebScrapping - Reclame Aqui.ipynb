{
 "cells": [
  {
   "cell_type": "code",
   "execution_count": 1,
   "id": "162d61e7",
   "metadata": {},
   "outputs": [],
   "source": [
    "from selenium import webdriver\n",
    "from selenium.webdriver.common.by import By\n",
    "import time\n",
    "from bs4 import BeautifulSoup\n",
    "import pandas as pd\n",
    "import numpy as np"
   ]
  },
  {
   "cell_type": "code",
   "execution_count": 2,
   "id": "f05d28b2",
   "metadata": {},
   "outputs": [],
   "source": [
    "email = 'matheus.maranhao@hotmail.com'\n",
    "pw ='mgm06121995'"
   ]
  },
  {
   "cell_type": "code",
   "execution_count": 3,
   "id": "d65adc6e",
   "metadata": {
    "scrolled": false
   },
   "outputs": [
    {
     "name": "stderr",
     "output_type": "stream",
     "text": [
      "/tmp/ipykernel_5618/334499702.py:7: DeprecationWarning: find_element_by_* commands are deprecated. Please use find_element() instead\n",
      "  elem = browser.find_element_by_id('username')\n",
      "/tmp/ipykernel_5618/334499702.py:11: DeprecationWarning: find_element_by_* commands are deprecated. Please use find_element() instead\n",
      "  elem = browser.find_element_by_id('password')\n",
      "/tmp/ipykernel_5618/334499702.py:14: DeprecationWarning: find_element_by_* commands are deprecated. Please use find_element() instead\n",
      "  browser.find_element_by_id('kc-login').click()\n"
     ]
    }
   ],
   "source": [
    "#Log-in\n",
    "browser = webdriver.Firefox()\n",
    "browser.get('https://auth.reclameaqui.com.br/auth/realms/reclameaqui/protocol/openid-connect/auth?client_id=sitepublico&redirect_uri=https%3A%2F%2Fwww.reclameaqui.com.br%2Fempresa%2Fcielo%2Flista-reclamacoes%2F&state=6a862032-3926-4c2f-9600-b35e0be25bdd&response_mode=fragment&response_type=code&scope=openid&nonce=e8b04d76-d336-4f46-8cf9-fcecca1b6618')\n",
    "\n",
    "time.sleep(3)\n",
    "\n",
    "elem = browser.find_element_by_id('username')\n",
    "elem.send_keys(email)\n",
    "\n",
    "\n",
    "elem = browser.find_element_by_id('password')\n",
    "elem.send_keys(pw)\n",
    "\n",
    "browser.find_element_by_id('kc-login').click()\n",
    "\n",
    "time.sleep(20)"
   ]
  },
  {
   "cell_type": "code",
   "execution_count": 4,
   "id": "419fb5d8",
   "metadata": {},
   "outputs": [
    {
     "name": "stderr",
     "output_type": "stream",
     "text": [
      "100%|█████████████████████████████████████████████████████████████████████████████████████████████████████████████████| 19/19 [00:55<00:00,  2.91s/it]\n"
     ]
    }
   ],
   "source": [
    "#Get list page HTML\n",
    "source = []\n",
    "\n",
    "from tqdm import tqdm\n",
    "for i in tqdm(range(1,20)):\n",
    "    url = 'https://www.reclameaqui.com.br/empresa/cielo/lista-reclamacoes/?pagina='+str(i+1)\n",
    "    browser.get(url)\n",
    "    source.append(browser.page_source)"
   ]
  },
  {
   "cell_type": "code",
   "execution_count": 5,
   "id": "3bb51086",
   "metadata": {},
   "outputs": [
    {
     "name": "stderr",
     "output_type": "stream",
     "text": [
      "100%|█████████████████████████████████████████████████████████████████████████████████████████████████████████████████| 19/19 [00:00<00:00, 24.54it/s]\n"
     ]
    }
   ],
   "source": [
    "#Get links href\n",
    "links = []\n",
    "for i in tqdm(source):\n",
    "    soup = BeautifulSoup(i)\n",
    "    l = soup.find_all('div', {'class':'sc-1pe7b5t-0 bJdtis'})\n",
    "    for x in l:\n",
    "        links.append(x.a['href'])"
   ]
  },
  {
   "cell_type": "code",
   "execution_count": 6,
   "id": "9ee1aea5",
   "metadata": {},
   "outputs": [
    {
     "name": "stderr",
     "output_type": "stream",
     "text": [
      "100%|███████████████████████████████████████████████████████████████████████████████████████████████████████████████| 190/190 [08:20<00:00,  2.63s/it]\n"
     ]
    }
   ],
   "source": [
    "#Get source\n",
    "s = []\n",
    "\n",
    "for i in tqdm(links):\n",
    "    url = 'https://www.reclameaqui.com.br'+i\n",
    "    browser.get(url)\n",
    "    s.append(browser.page_source)"
   ]
  },
  {
   "cell_type": "code",
   "execution_count": 7,
   "id": "080bb81e",
   "metadata": {},
   "outputs": [
    {
     "name": "stderr",
     "output_type": "stream",
     "text": [
      "100%|███████████████████████████████████████████████████████████████████████████████████████████████████████████████| 190/190 [00:05<00:00, 35.03it/s]\n"
     ]
    }
   ],
   "source": [
    "pergunta = []\n",
    "d_perg = []\n",
    "local = []\n",
    "assunto = []\n",
    "d_resp = []\n",
    "resp = []\n",
    "status = []\n",
    "for i in tqdm(s):\n",
    "    soup = BeautifulSoup(i)\n",
    "\n",
    "    #Pergunta\n",
    "    l = soup.find('h1', {'class':'lzlu7c-3 berwWw'})\n",
    "    pergunta.append(l.text)\n",
    "\n",
    "    #Data\n",
    "    l = soup.find('span', {'data-testid':\"complaint-creation-date\"})\n",
    "    d_perg.append(l.text)\n",
    "\n",
    "    # Local\n",
    "    l = soup.find('span', {'data-testid':\"complaint-location\"})\n",
    "    local.append(l.text)\n",
    "\n",
    "    #Assunto\n",
    "    l = soup.find_all('ul',{'class':'sc-1dmxdqs-0 kgaQNj'})\n",
    "    l = l[1].find_all('li')\n",
    "    n=[]\n",
    "    for i in range(len(l)-1):\n",
    "        n.append(l[i+1].text)\n",
    "    assunto.append(n)\n",
    "    try:\n",
    "        #Data da Resposta\n",
    "        l = soup.find('span', {'class':\"sc-1o3atjt-3 ipwWvs\"})\n",
    "        d_resp.append(l.text)\n",
    "\n",
    "        #Resposta\n",
    "        l = soup.find('p', {'class':\"sc-1o3atjt-4 JkSWX\"})\n",
    "        resp.append(l.text)\n",
    "    except:\n",
    "        d_resp.append(np.nan)\n",
    "        resp.append(np.nan)\n",
    "\n",
    "    #Status\n",
    "    l = soup.find('div', {'data-testid':\"complaint-status\"})\n",
    "    status.append(l.text)\n",
    "    \n",
    "d={}\n",
    "\n",
    "d['d_perg']=d_perg\n",
    "d['pergunta']=pergunta\n",
    "d['assunto']=assunto\n",
    "d['local']=local\n",
    "d['d_resp']=d_resp\n",
    "d['resp']=resp\n",
    "d['status']=status"
   ]
  },
  {
   "cell_type": "code",
   "execution_count": 9,
   "id": "1228a0c5",
   "metadata": {},
   "outputs": [],
   "source": [
    "df = pd.DataFrame(d)"
   ]
  },
  {
   "cell_type": "code",
   "execution_count": 10,
   "id": "5824337f",
   "metadata": {},
   "outputs": [],
   "source": [
    "df.to_csv('reclame_aqui.csv')"
   ]
  },
  {
   "cell_type": "code",
   "execution_count": null,
   "id": "0948a85d",
   "metadata": {},
   "outputs": [],
   "source": []
  }
 ],
 "metadata": {
  "kernelspec": {
   "display_name": "Python 3 (ipykernel)",
   "language": "python",
   "name": "python3"
  },
  "language_info": {
   "codemirror_mode": {
    "name": "ipython",
    "version": 3
   },
   "file_extension": ".py",
   "mimetype": "text/x-python",
   "name": "python",
   "nbconvert_exporter": "python",
   "pygments_lexer": "ipython3",
   "version": "3.8.10"
  }
 },
 "nbformat": 4,
 "nbformat_minor": 5
}
