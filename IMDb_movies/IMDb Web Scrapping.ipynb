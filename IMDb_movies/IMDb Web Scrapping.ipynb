{
 "cells": [
  {
   "cell_type": "markdown",
   "id": "f927420f",
   "metadata": {},
   "source": [
    "## Webscrapping\n",
    "\n",
    "O intuito desse notebook é realizar a coleta das informações: título, nota, duração, ano de lançamento, direção e principais artistas do Top 250 filmes do site IMDb.\n",
    "\n",
    "Para esse processo serão importadas as bibliotecas:"
   ]
  },
  {
   "cell_type": "code",
   "execution_count": 1,
   "id": "db040b09",
   "metadata": {},
   "outputs": [],
   "source": [
    "import pandas as pd #para trabalhar com os dados extraídos em forma de DataFrame\n",
    "import requests #para requisitar páginas\n",
    "from bs4 import BeautifulSoup #quebrando o código para torná-lo acessível por suas tags"
   ]
  },
  {
   "cell_type": "markdown",
   "id": "dd84648c",
   "metadata": {},
   "source": [
    "Após entender como as informações estão distribuídas, o primeiro passo é coletar o link referente a cada um dos filmes. Estes links estão disponíveis na página que contém a lista  de filmes."
   ]
  },
  {
   "cell_type": "code",
   "execution_count": 37,
   "id": "1ccb3cb6",
   "metadata": {},
   "outputs": [
    {
     "data": {
      "text/plain": [
       "['https://www.imdb.com/title/tt0111161/',\n",
       " 'https://www.imdb.com/title/tt0068646/',\n",
       " 'https://www.imdb.com/title/tt0468569/',\n",
       " 'https://www.imdb.com/title/tt0071562/',\n",
       " 'https://www.imdb.com/title/tt0050083/']"
      ]
     },
     "execution_count": 37,
     "metadata": {},
     "output_type": "execute_result"
    }
   ],
   "source": [
    "url = 'https://www.imdb.com/chart/top/?ref_=nv_mv_250'\n",
    "\n",
    "#Organizando informações do link com a lista de filmes\n",
    "r = requests.get(url)\n",
    "text = r.text\n",
    "soup = BeautifulSoup(text) \n",
    "\n",
    "#Coletando links na href de cada filme\n",
    "l = soup.find_all('tr')[1:] #extraindo todas as tag tr e criando uma lista\n",
    "\n",
    "#extraindo apenas a referência do link\n",
    "titles = []\n",
    "for i in l:\n",
    "    titles.append(i.find('a')['href']) \n",
    "    \n",
    "links = []\n",
    "#criando link de cada filme\n",
    "for i in titles:\n",
    "    links.append('https://www.imdb.com'+i)\n",
    "\n",
    "links[:5]"
   ]
  },
  {
   "cell_type": "markdown",
   "id": "bb74b017",
   "metadata": {},
   "source": [
    "Com os links coletados é possível obter as informações de cada filme, individualmente."
   ]
  },
  {
   "cell_type": "code",
   "execution_count": 76,
   "id": "d69094a8",
   "metadata": {},
   "outputs": [],
   "source": [
    "#Coletando o código da página de cada filme\n",
    "\n",
    "url = links[0]\n",
    "\n",
    "r = requests.get(url)\n",
    "text = r.text\n",
    "soup = BeautifulSoup(text) "
   ]
  },
  {
   "cell_type": "code",
   "execution_count": 112,
   "id": "5c61fda8",
   "metadata": {},
   "outputs": [],
   "source": [
    "#Coletando nome\n",
    "\n",
    "nome = soup.find('h1').text"
   ]
  },
  {
   "cell_type": "code",
   "execution_count": 113,
   "id": "05b8b943",
   "metadata": {},
   "outputs": [],
   "source": [
    "#Coletando nota\n",
    "nota = soup.find('span', {'class':'sc-7ab21ed2-1 jGRxWM'}).text"
   ]
  },
  {
   "cell_type": "code",
   "execution_count": 114,
   "id": "e419544a",
   "metadata": {},
   "outputs": [],
   "source": [
    "#Coletando ano de lançamento\n",
    "ano = soup.find('a', {'class':'ipc-link ipc-link--baseAlt ipc-link--inherit-color sc-8c396aa2-1 WIUyh'}).text"
   ]
  },
  {
   "cell_type": "code",
   "execution_count": 116,
   "id": "0e4105ea",
   "metadata": {},
   "outputs": [],
   "source": [
    "#Coletando diretor\n",
    "diretor = soup.find('a', {'class':'ipc-metadata-list-item__list-content-item ipc-metadata-list-item__list-content-item--link'}).text"
   ]
  },
  {
   "cell_type": "code",
   "execution_count": 117,
   "id": "76b3a62e",
   "metadata": {},
   "outputs": [],
   "source": [
    "#Coletando elenco\n",
    "a = []\n",
    "ator = soup.find_all('div', {'class':'ipc-metadata-list-item__content-container'})[2]\n",
    "for i in ator.find_all('a'):\n",
    "    a.append(i.text)"
   ]
  },
  {
   "cell_type": "code",
   "execution_count": 118,
   "id": "5c3553cd",
   "metadata": {},
   "outputs": [],
   "source": [
    "#Coletando duração\n",
    "tempo = soup.find_all('li', {'class':'ipc-inline-list__item'})\n",
    "tempo = tempo[2].text"
   ]
  },
  {
   "cell_type": "markdown",
   "id": "d197df4a",
   "metadata": {},
   "source": [
    "##### Unificando código e iterando"
   ]
  },
  {
   "cell_type": "code",
   "execution_count": 109,
   "id": "1919d4d1",
   "metadata": {
    "scrolled": false
   },
   "outputs": [],
   "source": [
    "d = {}\n",
    "nome = []\n",
    "nota = []\n",
    "diretor = []\n",
    "ano = []\n",
    "duracao = []\n",
    "elenco = []\n",
    "\n",
    "for l in links:\n",
    "    \n",
    "    url = l\n",
    "\n",
    "    r = requests.get(url)\n",
    "    text = r.text\n",
    "    soup = BeautifulSoup(text) \n",
    "    \n",
    "    nome.append(soup.find('h1').text)\n",
    "    nota.append(soup.find('span', {'class':'sc-7ab21ed2-1 jGRxWM'}).text)\n",
    "    diretor.append(soup.find('a', \n",
    "                            {'class':'ipc-metadata-list-item__list-content-item ipc-metadata-list-item__list-content-item--link'}).text)\n",
    "    ano.append(soup.find('a', \n",
    "                         {'class':'ipc-link ipc-link--baseAlt ipc-link--inherit-color sc-8c396aa2-1 WIUyh'}).text)\n",
    "    tempo = soup.find_all('li', {'class':'ipc-inline-list__item'})\n",
    "    duracao.append(tempo[2].text)\n",
    "    a = []\n",
    "    ator = soup.find_all('div', {'class':'ipc-metadata-list-item__content-container'})[2]\n",
    "    for i in ator.find_all('a'):\n",
    "        a.append(i.text)\n",
    "    elenco.append(a)\n",
    "    d['nome']=nome\n",
    "    d['nota']=nota\n",
    "    d['diretor']=diretor\n",
    "    d['ano']=ano\n",
    "    d['duracao']=duracao\n",
    "    d['elenco']=elenco"
   ]
  },
  {
   "cell_type": "code",
   "execution_count": 107,
   "id": "0779e7ab",
   "metadata": {},
   "outputs": [],
   "source": [
    "df = pd.DataFrame.from_dict(d)"
   ]
  },
  {
   "cell_type": "code",
   "execution_count": 110,
   "id": "c1f9f722",
   "metadata": {},
   "outputs": [
    {
     "data": {
      "text/html": [
       "<div>\n",
       "<style scoped>\n",
       "    .dataframe tbody tr th:only-of-type {\n",
       "        vertical-align: middle;\n",
       "    }\n",
       "\n",
       "    .dataframe tbody tr th {\n",
       "        vertical-align: top;\n",
       "    }\n",
       "\n",
       "    .dataframe thead th {\n",
       "        text-align: right;\n",
       "    }\n",
       "</style>\n",
       "<table border=\"1\" class=\"dataframe\">\n",
       "  <thead>\n",
       "    <tr style=\"text-align: right;\">\n",
       "      <th></th>\n",
       "      <th>nome</th>\n",
       "      <th>nota</th>\n",
       "      <th>diretor</th>\n",
       "      <th>ano</th>\n",
       "      <th>duracao</th>\n",
       "      <th>elenco</th>\n",
       "    </tr>\n",
       "  </thead>\n",
       "  <tbody>\n",
       "    <tr>\n",
       "      <th>0</th>\n",
       "      <td>Um Sonho de Liberdade</td>\n",
       "      <td>9.3</td>\n",
       "      <td>Frank Darabont</td>\n",
       "      <td>1994</td>\n",
       "      <td>2h 22m</td>\n",
       "      <td>[Tim Robbins, Morgan Freeman, Bob Gunton]</td>\n",
       "    </tr>\n",
       "    <tr>\n",
       "      <th>1</th>\n",
       "      <td>O Poderoso Chefão</td>\n",
       "      <td>9.2</td>\n",
       "      <td>Francis Ford Coppola</td>\n",
       "      <td>1972</td>\n",
       "      <td>2h 55m</td>\n",
       "      <td>[Marlon Brando, Al Pacino, James Caan]</td>\n",
       "    </tr>\n",
       "    <tr>\n",
       "      <th>2</th>\n",
       "      <td>Batman: O Cavaleiro das Trevas</td>\n",
       "      <td>9.0</td>\n",
       "      <td>Christopher Nolan</td>\n",
       "      <td>2008</td>\n",
       "      <td>2h 32m</td>\n",
       "      <td>[Christian Bale, Heath Ledger, Aaron Eckhart]</td>\n",
       "    </tr>\n",
       "    <tr>\n",
       "      <th>3</th>\n",
       "      <td>O Poderoso Chefão II</td>\n",
       "      <td>9.0</td>\n",
       "      <td>Francis Ford Coppola</td>\n",
       "      <td>1974</td>\n",
       "      <td>3h 22m</td>\n",
       "      <td>[Al Pacino, Robert De Niro, Robert Duvall]</td>\n",
       "    </tr>\n",
       "    <tr>\n",
       "      <th>4</th>\n",
       "      <td>12 Homens e uma Sentença</td>\n",
       "      <td>9.0</td>\n",
       "      <td>Sidney Lumet</td>\n",
       "      <td>1957</td>\n",
       "      <td>1h 36m</td>\n",
       "      <td>[Henry Fonda, Lee J. Cobb, Martin Balsam]</td>\n",
       "    </tr>\n",
       "    <tr>\n",
       "      <th>...</th>\n",
       "      <td>...</td>\n",
       "      <td>...</td>\n",
       "      <td>...</td>\n",
       "      <td>...</td>\n",
       "      <td>...</td>\n",
       "      <td>...</td>\n",
       "    </tr>\n",
       "    <tr>\n",
       "      <th>245</th>\n",
       "      <td>Aladdin</td>\n",
       "      <td>8.0</td>\n",
       "      <td>Ron Clements</td>\n",
       "      <td>1992</td>\n",
       "      <td>1h 30m</td>\n",
       "      <td>[Scott Weinger, Robin Williams, Linda Larkin]</td>\n",
       "    </tr>\n",
       "    <tr>\n",
       "      <th>246</th>\n",
       "      <td>Histórias Cruzadas</td>\n",
       "      <td>8.1</td>\n",
       "      <td>Tate Taylor</td>\n",
       "      <td>2011</td>\n",
       "      <td>2h 26m</td>\n",
       "      <td>[Emma Stone, Viola Davis, Octavia Spencer]</td>\n",
       "    </tr>\n",
       "    <tr>\n",
       "      <th>247</th>\n",
       "      <td>A Bela e a Fera</td>\n",
       "      <td>8.0</td>\n",
       "      <td>Gary Trousdale</td>\n",
       "      <td>1991</td>\n",
       "      <td>1h 24m</td>\n",
       "      <td>[Paige O'Hara, Robby Benson, Jesse Corti]</td>\n",
       "    </tr>\n",
       "    <tr>\n",
       "      <th>248</th>\n",
       "      <td>Dança com Lobos</td>\n",
       "      <td>8.0</td>\n",
       "      <td>Kevin Costner</td>\n",
       "      <td>1990</td>\n",
       "      <td>3h 1m</td>\n",
       "      <td>[Kevin Costner, Mary McDonnell, Graham Greene]</td>\n",
       "    </tr>\n",
       "    <tr>\n",
       "      <th>249</th>\n",
       "      <td>Rififi</td>\n",
       "      <td>8.1</td>\n",
       "      <td>Jules Dassin</td>\n",
       "      <td>1955</td>\n",
       "      <td>1h 58m</td>\n",
       "      <td>[Jean Servais, Carl Möhner, Robert Manuel]</td>\n",
       "    </tr>\n",
       "  </tbody>\n",
       "</table>\n",
       "<p>250 rows × 6 columns</p>\n",
       "</div>"
      ],
      "text/plain": [
       "                               nome nota               diretor   ano duracao  \\\n",
       "0             Um Sonho de Liberdade  9.3        Frank Darabont  1994  2h 22m   \n",
       "1                 O Poderoso Chefão  9.2  Francis Ford Coppola  1972  2h 55m   \n",
       "2    Batman: O Cavaleiro das Trevas  9.0     Christopher Nolan  2008  2h 32m   \n",
       "3              O Poderoso Chefão II  9.0  Francis Ford Coppola  1974  3h 22m   \n",
       "4          12 Homens e uma Sentença  9.0          Sidney Lumet  1957  1h 36m   \n",
       "..                              ...  ...                   ...   ...     ...   \n",
       "245                         Aladdin  8.0          Ron Clements  1992  1h 30m   \n",
       "246              Histórias Cruzadas  8.1           Tate Taylor  2011  2h 26m   \n",
       "247                 A Bela e a Fera  8.0        Gary Trousdale  1991  1h 24m   \n",
       "248                 Dança com Lobos  8.0         Kevin Costner  1990   3h 1m   \n",
       "249                          Rififi  8.1          Jules Dassin  1955  1h 58m   \n",
       "\n",
       "                                             elenco  \n",
       "0         [Tim Robbins, Morgan Freeman, Bob Gunton]  \n",
       "1            [Marlon Brando, Al Pacino, James Caan]  \n",
       "2     [Christian Bale, Heath Ledger, Aaron Eckhart]  \n",
       "3        [Al Pacino, Robert De Niro, Robert Duvall]  \n",
       "4         [Henry Fonda, Lee J. Cobb, Martin Balsam]  \n",
       "..                                              ...  \n",
       "245   [Scott Weinger, Robin Williams, Linda Larkin]  \n",
       "246      [Emma Stone, Viola Davis, Octavia Spencer]  \n",
       "247       [Paige O'Hara, Robby Benson, Jesse Corti]  \n",
       "248  [Kevin Costner, Mary McDonnell, Graham Greene]  \n",
       "249      [Jean Servais, Carl Möhner, Robert Manuel]  \n",
       "\n",
       "[250 rows x 6 columns]"
      ]
     },
     "execution_count": 110,
     "metadata": {},
     "output_type": "execute_result"
    }
   ],
   "source": [
    "df"
   ]
  },
  {
   "cell_type": "code",
   "execution_count": 111,
   "id": "f27dd9bd",
   "metadata": {},
   "outputs": [],
   "source": [
    "df.to_csv('imdb_250.csv')"
   ]
  }
 ],
 "metadata": {
  "kernelspec": {
   "display_name": "Python 3 (ipykernel)",
   "language": "python",
   "name": "python3"
  },
  "language_info": {
   "codemirror_mode": {
    "name": "ipython",
    "version": 3
   },
   "file_extension": ".py",
   "mimetype": "text/x-python",
   "name": "python",
   "nbconvert_exporter": "python",
   "pygments_lexer": "ipython3",
   "version": "3.8.10"
  }
 },
 "nbformat": 4,
 "nbformat_minor": 5
}
